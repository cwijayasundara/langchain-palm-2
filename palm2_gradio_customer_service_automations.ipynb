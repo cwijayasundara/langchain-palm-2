{
  "nbformat": 4,
  "nbformat_minor": 0,
  "metadata": {
    "colab": {
      "provenance": []
    },
    "kernelspec": {
      "name": "python3",
      "display_name": "Python 3"
    },
    "language_info": {
      "name": "python"
    },
    "widgets": {
      "application/vnd.jupyter.widget-state+json": {
        "f2b4e82e6c014da18d1b9cb90ead0984": {
          "model_module": "@jupyter-widgets/controls",
          "model_name": "HBoxModel",
          "model_module_version": "1.5.0",
          "state": {
            "_dom_classes": [],
            "_model_module": "@jupyter-widgets/controls",
            "_model_module_version": "1.5.0",
            "_model_name": "HBoxModel",
            "_view_count": null,
            "_view_module": "@jupyter-widgets/controls",
            "_view_module_version": "1.5.0",
            "_view_name": "HBoxView",
            "box_style": "",
            "children": [
              "IPY_MODEL_fe8a4b8af771429cb2368b40a392121d",
              "IPY_MODEL_ad81da2ef3aa4c0184195854a57129b6",
              "IPY_MODEL_31e6d80234c54ac28d7b8a726a69d4bb"
            ],
            "layout": "IPY_MODEL_ce6fc3fa53484961bfc06fe7183bdb76"
          }
        },
        "fe8a4b8af771429cb2368b40a392121d": {
          "model_module": "@jupyter-widgets/controls",
          "model_name": "HTMLModel",
          "model_module_version": "1.5.0",
          "state": {
            "_dom_classes": [],
            "_model_module": "@jupyter-widgets/controls",
            "_model_module_version": "1.5.0",
            "_model_name": "HTMLModel",
            "_view_count": null,
            "_view_module": "@jupyter-widgets/controls",
            "_view_module_version": "1.5.0",
            "_view_name": "HTMLView",
            "description": "",
            "description_tooltip": null,
            "layout": "IPY_MODEL_f6bddcba68804d288846e3a56f84631f",
            "placeholder": "​",
            "style": "IPY_MODEL_31e6047a891b4f6eb19227739a7521db",
            "value": "100%"
          }
        },
        "ad81da2ef3aa4c0184195854a57129b6": {
          "model_module": "@jupyter-widgets/controls",
          "model_name": "FloatProgressModel",
          "model_module_version": "1.5.0",
          "state": {
            "_dom_classes": [],
            "_model_module": "@jupyter-widgets/controls",
            "_model_module_version": "1.5.0",
            "_model_name": "FloatProgressModel",
            "_view_count": null,
            "_view_module": "@jupyter-widgets/controls",
            "_view_module_version": "1.5.0",
            "_view_name": "ProgressView",
            "bar_style": "success",
            "description": "",
            "description_tooltip": null,
            "layout": "IPY_MODEL_00347f39d74b4428a0d7d643c1072cc5",
            "max": 2,
            "min": 0,
            "orientation": "horizontal",
            "style": "IPY_MODEL_2089dbebdebd475791420afff106317e",
            "value": 2
          }
        },
        "31e6d80234c54ac28d7b8a726a69d4bb": {
          "model_module": "@jupyter-widgets/controls",
          "model_name": "HTMLModel",
          "model_module_version": "1.5.0",
          "state": {
            "_dom_classes": [],
            "_model_module": "@jupyter-widgets/controls",
            "_model_module_version": "1.5.0",
            "_model_name": "HTMLModel",
            "_view_count": null,
            "_view_module": "@jupyter-widgets/controls",
            "_view_module_version": "1.5.0",
            "_view_name": "HTMLView",
            "description": "",
            "description_tooltip": null,
            "layout": "IPY_MODEL_b1be00623d954ca3a79fb9ab9c622ad0",
            "placeholder": "​",
            "style": "IPY_MODEL_b979127e46fd4ce19eda5e83164f3f20",
            "value": " 2/2 [00:00&lt;00:00, 45.39it/s]"
          }
        },
        "ce6fc3fa53484961bfc06fe7183bdb76": {
          "model_module": "@jupyter-widgets/base",
          "model_name": "LayoutModel",
          "model_module_version": "1.2.0",
          "state": {
            "_model_module": "@jupyter-widgets/base",
            "_model_module_version": "1.2.0",
            "_model_name": "LayoutModel",
            "_view_count": null,
            "_view_module": "@jupyter-widgets/base",
            "_view_module_version": "1.2.0",
            "_view_name": "LayoutView",
            "align_content": null,
            "align_items": null,
            "align_self": null,
            "border": null,
            "bottom": null,
            "display": null,
            "flex": null,
            "flex_flow": null,
            "grid_area": null,
            "grid_auto_columns": null,
            "grid_auto_flow": null,
            "grid_auto_rows": null,
            "grid_column": null,
            "grid_gap": null,
            "grid_row": null,
            "grid_template_areas": null,
            "grid_template_columns": null,
            "grid_template_rows": null,
            "height": null,
            "justify_content": null,
            "justify_items": null,
            "left": null,
            "margin": null,
            "max_height": null,
            "max_width": null,
            "min_height": null,
            "min_width": null,
            "object_fit": null,
            "object_position": null,
            "order": null,
            "overflow": null,
            "overflow_x": null,
            "overflow_y": null,
            "padding": null,
            "right": null,
            "top": null,
            "visibility": null,
            "width": null
          }
        },
        "f6bddcba68804d288846e3a56f84631f": {
          "model_module": "@jupyter-widgets/base",
          "model_name": "LayoutModel",
          "model_module_version": "1.2.0",
          "state": {
            "_model_module": "@jupyter-widgets/base",
            "_model_module_version": "1.2.0",
            "_model_name": "LayoutModel",
            "_view_count": null,
            "_view_module": "@jupyter-widgets/base",
            "_view_module_version": "1.2.0",
            "_view_name": "LayoutView",
            "align_content": null,
            "align_items": null,
            "align_self": null,
            "border": null,
            "bottom": null,
            "display": null,
            "flex": null,
            "flex_flow": null,
            "grid_area": null,
            "grid_auto_columns": null,
            "grid_auto_flow": null,
            "grid_auto_rows": null,
            "grid_column": null,
            "grid_gap": null,
            "grid_row": null,
            "grid_template_areas": null,
            "grid_template_columns": null,
            "grid_template_rows": null,
            "height": null,
            "justify_content": null,
            "justify_items": null,
            "left": null,
            "margin": null,
            "max_height": null,
            "max_width": null,
            "min_height": null,
            "min_width": null,
            "object_fit": null,
            "object_position": null,
            "order": null,
            "overflow": null,
            "overflow_x": null,
            "overflow_y": null,
            "padding": null,
            "right": null,
            "top": null,
            "visibility": null,
            "width": null
          }
        },
        "31e6047a891b4f6eb19227739a7521db": {
          "model_module": "@jupyter-widgets/controls",
          "model_name": "DescriptionStyleModel",
          "model_module_version": "1.5.0",
          "state": {
            "_model_module": "@jupyter-widgets/controls",
            "_model_module_version": "1.5.0",
            "_model_name": "DescriptionStyleModel",
            "_view_count": null,
            "_view_module": "@jupyter-widgets/base",
            "_view_module_version": "1.2.0",
            "_view_name": "StyleView",
            "description_width": ""
          }
        },
        "00347f39d74b4428a0d7d643c1072cc5": {
          "model_module": "@jupyter-widgets/base",
          "model_name": "LayoutModel",
          "model_module_version": "1.2.0",
          "state": {
            "_model_module": "@jupyter-widgets/base",
            "_model_module_version": "1.2.0",
            "_model_name": "LayoutModel",
            "_view_count": null,
            "_view_module": "@jupyter-widgets/base",
            "_view_module_version": "1.2.0",
            "_view_name": "LayoutView",
            "align_content": null,
            "align_items": null,
            "align_self": null,
            "border": null,
            "bottom": null,
            "display": null,
            "flex": null,
            "flex_flow": null,
            "grid_area": null,
            "grid_auto_columns": null,
            "grid_auto_flow": null,
            "grid_auto_rows": null,
            "grid_column": null,
            "grid_gap": null,
            "grid_row": null,
            "grid_template_areas": null,
            "grid_template_columns": null,
            "grid_template_rows": null,
            "height": null,
            "justify_content": null,
            "justify_items": null,
            "left": null,
            "margin": null,
            "max_height": null,
            "max_width": null,
            "min_height": null,
            "min_width": null,
            "object_fit": null,
            "object_position": null,
            "order": null,
            "overflow": null,
            "overflow_x": null,
            "overflow_y": null,
            "padding": null,
            "right": null,
            "top": null,
            "visibility": null,
            "width": null
          }
        },
        "2089dbebdebd475791420afff106317e": {
          "model_module": "@jupyter-widgets/controls",
          "model_name": "ProgressStyleModel",
          "model_module_version": "1.5.0",
          "state": {
            "_model_module": "@jupyter-widgets/controls",
            "_model_module_version": "1.5.0",
            "_model_name": "ProgressStyleModel",
            "_view_count": null,
            "_view_module": "@jupyter-widgets/base",
            "_view_module_version": "1.2.0",
            "_view_name": "StyleView",
            "bar_color": null,
            "description_width": ""
          }
        },
        "b1be00623d954ca3a79fb9ab9c622ad0": {
          "model_module": "@jupyter-widgets/base",
          "model_name": "LayoutModel",
          "model_module_version": "1.2.0",
          "state": {
            "_model_module": "@jupyter-widgets/base",
            "_model_module_version": "1.2.0",
            "_model_name": "LayoutModel",
            "_view_count": null,
            "_view_module": "@jupyter-widgets/base",
            "_view_module_version": "1.2.0",
            "_view_name": "LayoutView",
            "align_content": null,
            "align_items": null,
            "align_self": null,
            "border": null,
            "bottom": null,
            "display": null,
            "flex": null,
            "flex_flow": null,
            "grid_area": null,
            "grid_auto_columns": null,
            "grid_auto_flow": null,
            "grid_auto_rows": null,
            "grid_column": null,
            "grid_gap": null,
            "grid_row": null,
            "grid_template_areas": null,
            "grid_template_columns": null,
            "grid_template_rows": null,
            "height": null,
            "justify_content": null,
            "justify_items": null,
            "left": null,
            "margin": null,
            "max_height": null,
            "max_width": null,
            "min_height": null,
            "min_width": null,
            "object_fit": null,
            "object_position": null,
            "order": null,
            "overflow": null,
            "overflow_x": null,
            "overflow_y": null,
            "padding": null,
            "right": null,
            "top": null,
            "visibility": null,
            "width": null
          }
        },
        "b979127e46fd4ce19eda5e83164f3f20": {
          "model_module": "@jupyter-widgets/controls",
          "model_name": "DescriptionStyleModel",
          "model_module_version": "1.5.0",
          "state": {
            "_model_module": "@jupyter-widgets/controls",
            "_model_module_version": "1.5.0",
            "_model_name": "DescriptionStyleModel",
            "_view_count": null,
            "_view_module": "@jupyter-widgets/base",
            "_view_module_version": "1.2.0",
            "_view_name": "StyleView",
            "description_width": ""
          }
        }
      }
    }
  },
  "cells": [
    {
      "cell_type": "code",
      "execution_count": null,
      "metadata": {
        "id": "7oGjSgqD4Xoh"
      },
      "outputs": [],
      "source": [
        "! pip install -qU google-cloud-aiplatform langchain datasets pandas gradio"
      ]
    },
    {
      "cell_type": "markdown",
      "source": [
        "Restart the Runtime for Vertex AI. The below code crashes the runtime so restart manually!"
      ],
      "metadata": {
        "id": "oSRbkh9w54lN"
      }
    },
    {
      "cell_type": "code",
      "source": [
        "import IPython\n",
        "app = IPython.Application.instance()\n",
        "app.kernel.do_shutdown(True)"
      ],
      "metadata": {
        "colab": {
          "base_uri": "https://localhost:8080/"
        },
        "id": "EZejhODj5n3r",
        "outputId": "1b64b5be-6843-4da7-f527-637289c48bce"
      },
      "execution_count": null,
      "outputs": [
        {
          "output_type": "execute_result",
          "data": {
            "text/plain": [
              "{'status': 'ok', 'restart': True}"
            ]
          },
          "metadata": {},
          "execution_count": 2
        }
      ]
    },
    {
      "cell_type": "code",
      "source": [
        "from google.colab import auth\n",
        "auth.authenticate_user()"
      ],
      "metadata": {
        "id": "hFhqij_B507W"
      },
      "execution_count": null,
      "outputs": []
    },
    {
      "cell_type": "code",
      "source": [
        "PROJECT_ID = \"ibm-keras\"\n",
        "REGION = \"us-central1\"\n",
        "import vertexai\n",
        "import gradio as gr\n",
        "vertexai.init(project=PROJECT_ID, location=REGION)"
      ],
      "metadata": {
        "id": "vZ_5K0S85_X2"
      },
      "execution_count": null,
      "outputs": []
    },
    {
      "cell_type": "code",
      "source": [
        "from datasets import load_dataset\n",
        "from google.cloud import aiplatform\n",
        "from langchain.llms import VertexAI\n",
        "from langchain.chains import SequentialChain\n",
        "from langchain.prompts import ChatPromptTemplate\n",
        "from langchain.chains import LLMChain\n",
        "import warnings\n",
        "import pandas as pd"
      ],
      "metadata": {
        "id": "MtHvhOwEF_qY"
      },
      "execution_count": null,
      "outputs": []
    },
    {
      "cell_type": "code",
      "source": [
        "llm = VertexAI(\n",
        "    model_name=\"text-bison@001\",\n",
        "    max_output_tokens=256,\n",
        "    temperature=0.1,\n",
        "    top_p=0.8,\n",
        "    top_k=40,\n",
        "    verbose=True,\n",
        ")"
      ],
      "metadata": {
        "id": "1GGtZoFNGd0k"
      },
      "execution_count": null,
      "outputs": []
    },
    {
      "cell_type": "code",
      "source": [
        "warnings.filterwarnings('ignore')"
      ],
      "metadata": {
        "id": "KwulA35hGkB7"
      },
      "execution_count": null,
      "outputs": []
    },
    {
      "cell_type": "code",
      "source": [
        "# load the dataset from huggingface\n",
        "dataset = load_dataset(\"banking77\")\n",
        "\n",
        "# Sort the dataset by the length of the customer texts\n",
        "sorted_data = sorted(dataset['train'], key=lambda x: len(x['text']), reverse=True)\n",
        "\n",
        "longest_ten_texts = [entry[\"text\"] for entry in sorted_data[:3]]"
      ],
      "metadata": {
        "colab": {
          "base_uri": "https://localhost:8080/",
          "height": 66,
          "referenced_widgets": [
            "f2b4e82e6c014da18d1b9cb90ead0984",
            "fe8a4b8af771429cb2368b40a392121d",
            "ad81da2ef3aa4c0184195854a57129b6",
            "31e6d80234c54ac28d7b8a726a69d4bb",
            "ce6fc3fa53484961bfc06fe7183bdb76",
            "f6bddcba68804d288846e3a56f84631f",
            "31e6047a891b4f6eb19227739a7521db",
            "00347f39d74b4428a0d7d643c1072cc5",
            "2089dbebdebd475791420afff106317e",
            "b1be00623d954ca3a79fb9ab9c622ad0",
            "b979127e46fd4ce19eda5e83164f3f20"
          ]
        },
        "id": "zD179u-yGuC2",
        "outputId": "39720ba0-e2a2-4747-f7e3-6634f43624ce"
      },
      "execution_count": null,
      "outputs": [
        {
          "output_type": "stream",
          "name": "stderr",
          "text": [
            "WARNING:datasets.builder:Found cached dataset banking77 (/root/.cache/huggingface/datasets/banking77/default/1.1.0/9898c11f6afa9521953d2ef205667b527bad14ef9cab445d470f16240c8c8ec4)\n"
          ]
        },
        {
          "output_type": "display_data",
          "data": {
            "text/plain": [
              "  0%|          | 0/2 [00:00<?, ?it/s]"
            ],
            "application/vnd.jupyter.widget-view+json": {
              "version_major": 2,
              "version_minor": 0,
              "model_id": "f2b4e82e6c014da18d1b9cb90ead0984"
            }
          },
          "metadata": {}
        }
      ]
    },
    {
      "cell_type": "code",
      "source": [
        "# SequentialChain\n",
        "english_translator_prompt = ChatPromptTemplate.from_template(\n",
        "    \"Translate the following enquiry to english:{Review}\")\n",
        "\n",
        "# chain 1: input= Review and output= English_Review\n",
        "english_translator_chain = LLMChain(llm=llm, prompt=english_translator_prompt, output_key=\"English_Review\")\n",
        "\n",
        "# summary chain\n",
        "summary_prompt = ChatPromptTemplate.from_template(\n",
        "    \"Can you summarize the following enquiry in no longer than 100 words?: {English_Review}\")\n",
        "\n",
        "# chain 2: input= English_Review and output= summary\n",
        "summary_chain = LLMChain(llm=llm, prompt=summary_prompt, output_key=\"summary\")\n",
        "\n",
        "# sentiment chain\n",
        "sentiment_prompt = ChatPromptTemplate.from_template(\"Identify the sentiment of the the following enquiry in single \"\n",
        "                                                    \"word, positive, negative or neutral: {summary}\")\n",
        "\n",
        "sentiment_chain = LLMChain(llm=llm, prompt=sentiment_prompt, output_key=\"sentiment\")\n",
        "\n",
        "# Intent chain\n",
        "intent_prompt = ChatPromptTemplate.from_template(\"Identify the intent of the the following enquiry in single sentence\"\n",
        "                                                 \"\\n\\n{summary}\"\n",
        "                                                 )\n",
        "intent_chain = LLMChain(llm=llm, prompt=intent_prompt, output_key=\"intent\")\n",
        "\n",
        "# Identity the original language the enquiry was written in\n",
        "language_prompt = ChatPromptTemplate.from_template(\"What language is the following enquiry:\\n\\n{Review}\")\n",
        "\n",
        "# input= Review and output= language\n",
        "language_chain = LLMChain(llm=llm, prompt=language_prompt, output_key=\"language\")\n",
        "\n",
        "# prompt template 4: follow-up message\n",
        "response_prompt = ChatPromptTemplate.from_template(\n",
        "    \"Write a follow up response in very professionally to the following \"\n",
        "    \"summary and sentiment in the specified language:\"\n",
        "    \"\\n\\nSummary: {summary}\\n\\nsentiment: {sentiment}\\n\\nLanguage: {language}\"\n",
        ")\n",
        "# chain 4: input= summary, language and output= followup_message\n",
        "response_chain = LLMChain(llm=llm, prompt=response_prompt, output_key=\"followup_message\")\n",
        "\n",
        "# overall_chain: input= Review\n",
        "# and output= English_Review,summary, follow up_message\n",
        "overall_chain = SequentialChain(\n",
        "    chains=[english_translator_chain, summary_chain, sentiment_chain, intent_chain, language_chain, response_chain],\n",
        "    input_variables=[\"Review\"],\n",
        "    output_variables=[\"English_Review\", \"summary\", \"sentiment\", \"intent\", \"language\", \"followup_message\"],\n",
        "    verbose=True\n",
        ")"
      ],
      "metadata": {
        "id": "tg9vn1FGHrOe"
      },
      "execution_count": null,
      "outputs": []
    },
    {
      "cell_type": "code",
      "source": [
        "def display_row(customer_enquery):\n",
        "    # This function will be called when an option is selected\n",
        "    # from the dropdown. The selected row as a string will be\n",
        "    # passed as the argument.\n",
        "    return overall_chain(customer_enquery)\n",
        "\n",
        "iface = gr.Interface(\n",
        "    fn=display_row,\n",
        "    inputs=gr.inputs.Dropdown(choices=longest_ten_texts),\n",
        "    outputs='text'\n",
        ")\n",
        "\n",
        "iface.launch(debug=True)"
      ],
      "metadata": {
        "id": "LcNy_0uNjLmh"
      },
      "execution_count": null,
      "outputs": []
    }
  ]
}