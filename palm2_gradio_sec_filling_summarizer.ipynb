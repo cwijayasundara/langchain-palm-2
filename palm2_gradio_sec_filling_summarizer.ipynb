{
  "nbformat": 4,
  "nbformat_minor": 0,
  "metadata": {
    "colab": {
      "provenance": []
    },
    "kernelspec": {
      "name": "python3",
      "display_name": "Python 3"
    },
    "language_info": {
      "name": "python"
    }
  },
  "cells": [
    {
      "cell_type": "code",
      "execution_count": null,
      "metadata": {
        "id": "lKPFFoGbD4me"
      },
      "outputs": [],
      "source": [
        "! pip install -qU google-cloud-aiplatform langchain chromadb pypdf transformers gradio"
      ]
    },
    {
      "cell_type": "markdown",
      "source": [
        "Restart the Runtime for Vertex AI. The below code crashes the runtime so restart manually!"
      ],
      "metadata": {
        "id": "tU2EN8o2FizG"
      }
    },
    {
      "cell_type": "code",
      "source": [
        "import IPython\n",
        "app = IPython.Application.instance()\n",
        "app.kernel.do_shutdown(True)"
      ],
      "metadata": {
        "id": "SUisWP1dFQ1S"
      },
      "execution_count": null,
      "outputs": []
    },
    {
      "cell_type": "markdown",
      "source": [
        "Authenticate the Google CoLab Env"
      ],
      "metadata": {
        "id": "nqyR-TS-F7Rc"
      }
    },
    {
      "cell_type": "code",
      "source": [
        "from google.colab import auth\n",
        "auth.authenticate_user()"
      ],
      "metadata": {
        "id": "1Wbqk6DpFtt_"
      },
      "execution_count": null,
      "outputs": []
    },
    {
      "cell_type": "markdown",
      "source": [
        "Import the libs"
      ],
      "metadata": {
        "id": "MENpMRQbGF1I"
      }
    },
    {
      "cell_type": "code",
      "source": [
        "import gradio as gr\n",
        "import vertexai\n",
        "from google.cloud import aiplatform\n",
        "from langchain.llms import VertexAI\n",
        "from langchain.document_loaders import PyPDFLoader\n",
        "from langchain.chains.summarize import load_summarize_chain\n",
        "from langchain.text_splitter import RecursiveCharacterTextSplitter"
      ],
      "metadata": {
        "id": "qWAyiwuEGGcZ"
      },
      "execution_count": null,
      "outputs": []
    },
    {
      "cell_type": "code",
      "source": [
        "PROJECT_ID = \"ibm-keras\"\n",
        "REGION = \"us-central1\"\n",
        "import vertexai\n",
        "vertexai.init(project=PROJECT_ID, location=REGION)\n",
        "\n",
        "llm = VertexAI(\n",
        "    model_name=\"text-bison@001\",\n",
        "    max_output_tokens=256,\n",
        "    temperature=0.1,\n",
        "    top_p=0.8,\n",
        "    top_k=40,\n",
        "    verbose=True,\n",
        ")"
      ],
      "metadata": {
        "id": "-gO0WxbYGYqv"
      },
      "execution_count": null,
      "outputs": []
    },
    {
      "cell_type": "code",
      "source": [
        "def summerise_large_pdf(fileUrl):\n",
        "  url = fileUrl\n",
        "  loader = PyPDFLoader(url)\n",
        "  documents = loader.load()\n",
        "  text_splitter = RecursiveCharacterTextSplitter(chunk_size=1500, chunk_overlap=50)\n",
        "  texts = text_splitter.split_documents(documents)\n",
        "  chain = load_summarize_chain(llm, chain_type=\"map_reduce\", verbose=True)\n",
        "  return chain.run(texts)"
      ],
      "metadata": {
        "id": "mGekWKUOJO6f"
      },
      "execution_count": null,
      "outputs": []
    },
    {
      "cell_type": "code",
      "source": [
        "def summerise_doc(file_url):\n",
        "    return summerise_large_pdf(file_url)\n",
        "\n",
        "sec_file_summeriser_app = gr.Interface(\n",
        "    fn=summerise_doc,\n",
        "    inputs=gr.Textbox(lines=3, placeholder=\"Please Enter the URL of the SEC Filling Here !\"),\n",
        "    outputs=\"text\",\n",
        ")\n",
        "sec_file_summeriser_app.launch(debug=True)"
      ],
      "metadata": {
        "id": "1HvXJ8xjIxvr"
      },
      "execution_count": null,
      "outputs": []
    }
  ]
}