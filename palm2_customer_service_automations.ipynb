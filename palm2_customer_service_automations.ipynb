{
  "nbformat": 4,
  "nbformat_minor": 0,
  "metadata": {
    "colab": {
      "provenance": []
    },
    "kernelspec": {
      "name": "python3",
      "display_name": "Python 3"
    },
    "language_info": {
      "name": "python"
    },
    "widgets": {
      "application/vnd.jupyter.widget-state+json": {
        "a513f88875c14ed6af9e2afdd52e5665": {
          "model_module": "@jupyter-widgets/controls",
          "model_name": "HBoxModel",
          "model_module_version": "1.5.0",
          "state": {
            "_dom_classes": [],
            "_model_module": "@jupyter-widgets/controls",
            "_model_module_version": "1.5.0",
            "_model_name": "HBoxModel",
            "_view_count": null,
            "_view_module": "@jupyter-widgets/controls",
            "_view_module_version": "1.5.0",
            "_view_name": "HBoxView",
            "box_style": "",
            "children": [
              "IPY_MODEL_c373de18dede449ab2b60ab1be265c55",
              "IPY_MODEL_4c5801ba58f44f49bb9d5606c4d6557c",
              "IPY_MODEL_7c7584201e8540649a90646f305dc397"
            ],
            "layout": "IPY_MODEL_0a924a57437045b1ab7bdac3dfbecd41"
          }
        },
        "c373de18dede449ab2b60ab1be265c55": {
          "model_module": "@jupyter-widgets/controls",
          "model_name": "HTMLModel",
          "model_module_version": "1.5.0",
          "state": {
            "_dom_classes": [],
            "_model_module": "@jupyter-widgets/controls",
            "_model_module_version": "1.5.0",
            "_model_name": "HTMLModel",
            "_view_count": null,
            "_view_module": "@jupyter-widgets/controls",
            "_view_module_version": "1.5.0",
            "_view_name": "HTMLView",
            "description": "",
            "description_tooltip": null,
            "layout": "IPY_MODEL_6fbdbd4c64ae473caf14e3646b70f5d5",
            "placeholder": "​",
            "style": "IPY_MODEL_c3d69d9eb68047629452a2024130932e",
            "value": "100%"
          }
        },
        "4c5801ba58f44f49bb9d5606c4d6557c": {
          "model_module": "@jupyter-widgets/controls",
          "model_name": "FloatProgressModel",
          "model_module_version": "1.5.0",
          "state": {
            "_dom_classes": [],
            "_model_module": "@jupyter-widgets/controls",
            "_model_module_version": "1.5.0",
            "_model_name": "FloatProgressModel",
            "_view_count": null,
            "_view_module": "@jupyter-widgets/controls",
            "_view_module_version": "1.5.0",
            "_view_name": "ProgressView",
            "bar_style": "success",
            "description": "",
            "description_tooltip": null,
            "layout": "IPY_MODEL_77dd9283ad814efbb3dae004e306b969",
            "max": 2,
            "min": 0,
            "orientation": "horizontal",
            "style": "IPY_MODEL_3bb18eb71eb845e79a9dca69d9a2396a",
            "value": 2
          }
        },
        "7c7584201e8540649a90646f305dc397": {
          "model_module": "@jupyter-widgets/controls",
          "model_name": "HTMLModel",
          "model_module_version": "1.5.0",
          "state": {
            "_dom_classes": [],
            "_model_module": "@jupyter-widgets/controls",
            "_model_module_version": "1.5.0",
            "_model_name": "HTMLModel",
            "_view_count": null,
            "_view_module": "@jupyter-widgets/controls",
            "_view_module_version": "1.5.0",
            "_view_name": "HTMLView",
            "description": "",
            "description_tooltip": null,
            "layout": "IPY_MODEL_a9660aec60dc48269572ec7b700dff02",
            "placeholder": "​",
            "style": "IPY_MODEL_922045f9f15f4803bf131ae2ba860361",
            "value": " 2/2 [00:00&lt;00:00, 36.58it/s]"
          }
        },
        "0a924a57437045b1ab7bdac3dfbecd41": {
          "model_module": "@jupyter-widgets/base",
          "model_name": "LayoutModel",
          "model_module_version": "1.2.0",
          "state": {
            "_model_module": "@jupyter-widgets/base",
            "_model_module_version": "1.2.0",
            "_model_name": "LayoutModel",
            "_view_count": null,
            "_view_module": "@jupyter-widgets/base",
            "_view_module_version": "1.2.0",
            "_view_name": "LayoutView",
            "align_content": null,
            "align_items": null,
            "align_self": null,
            "border": null,
            "bottom": null,
            "display": null,
            "flex": null,
            "flex_flow": null,
            "grid_area": null,
            "grid_auto_columns": null,
            "grid_auto_flow": null,
            "grid_auto_rows": null,
            "grid_column": null,
            "grid_gap": null,
            "grid_row": null,
            "grid_template_areas": null,
            "grid_template_columns": null,
            "grid_template_rows": null,
            "height": null,
            "justify_content": null,
            "justify_items": null,
            "left": null,
            "margin": null,
            "max_height": null,
            "max_width": null,
            "min_height": null,
            "min_width": null,
            "object_fit": null,
            "object_position": null,
            "order": null,
            "overflow": null,
            "overflow_x": null,
            "overflow_y": null,
            "padding": null,
            "right": null,
            "top": null,
            "visibility": null,
            "width": null
          }
        },
        "6fbdbd4c64ae473caf14e3646b70f5d5": {
          "model_module": "@jupyter-widgets/base",
          "model_name": "LayoutModel",
          "model_module_version": "1.2.0",
          "state": {
            "_model_module": "@jupyter-widgets/base",
            "_model_module_version": "1.2.0",
            "_model_name": "LayoutModel",
            "_view_count": null,
            "_view_module": "@jupyter-widgets/base",
            "_view_module_version": "1.2.0",
            "_view_name": "LayoutView",
            "align_content": null,
            "align_items": null,
            "align_self": null,
            "border": null,
            "bottom": null,
            "display": null,
            "flex": null,
            "flex_flow": null,
            "grid_area": null,
            "grid_auto_columns": null,
            "grid_auto_flow": null,
            "grid_auto_rows": null,
            "grid_column": null,
            "grid_gap": null,
            "grid_row": null,
            "grid_template_areas": null,
            "grid_template_columns": null,
            "grid_template_rows": null,
            "height": null,
            "justify_content": null,
            "justify_items": null,
            "left": null,
            "margin": null,
            "max_height": null,
            "max_width": null,
            "min_height": null,
            "min_width": null,
            "object_fit": null,
            "object_position": null,
            "order": null,
            "overflow": null,
            "overflow_x": null,
            "overflow_y": null,
            "padding": null,
            "right": null,
            "top": null,
            "visibility": null,
            "width": null
          }
        },
        "c3d69d9eb68047629452a2024130932e": {
          "model_module": "@jupyter-widgets/controls",
          "model_name": "DescriptionStyleModel",
          "model_module_version": "1.5.0",
          "state": {
            "_model_module": "@jupyter-widgets/controls",
            "_model_module_version": "1.5.0",
            "_model_name": "DescriptionStyleModel",
            "_view_count": null,
            "_view_module": "@jupyter-widgets/base",
            "_view_module_version": "1.2.0",
            "_view_name": "StyleView",
            "description_width": ""
          }
        },
        "77dd9283ad814efbb3dae004e306b969": {
          "model_module": "@jupyter-widgets/base",
          "model_name": "LayoutModel",
          "model_module_version": "1.2.0",
          "state": {
            "_model_module": "@jupyter-widgets/base",
            "_model_module_version": "1.2.0",
            "_model_name": "LayoutModel",
            "_view_count": null,
            "_view_module": "@jupyter-widgets/base",
            "_view_module_version": "1.2.0",
            "_view_name": "LayoutView",
            "align_content": null,
            "align_items": null,
            "align_self": null,
            "border": null,
            "bottom": null,
            "display": null,
            "flex": null,
            "flex_flow": null,
            "grid_area": null,
            "grid_auto_columns": null,
            "grid_auto_flow": null,
            "grid_auto_rows": null,
            "grid_column": null,
            "grid_gap": null,
            "grid_row": null,
            "grid_template_areas": null,
            "grid_template_columns": null,
            "grid_template_rows": null,
            "height": null,
            "justify_content": null,
            "justify_items": null,
            "left": null,
            "margin": null,
            "max_height": null,
            "max_width": null,
            "min_height": null,
            "min_width": null,
            "object_fit": null,
            "object_position": null,
            "order": null,
            "overflow": null,
            "overflow_x": null,
            "overflow_y": null,
            "padding": null,
            "right": null,
            "top": null,
            "visibility": null,
            "width": null
          }
        },
        "3bb18eb71eb845e79a9dca69d9a2396a": {
          "model_module": "@jupyter-widgets/controls",
          "model_name": "ProgressStyleModel",
          "model_module_version": "1.5.0",
          "state": {
            "_model_module": "@jupyter-widgets/controls",
            "_model_module_version": "1.5.0",
            "_model_name": "ProgressStyleModel",
            "_view_count": null,
            "_view_module": "@jupyter-widgets/base",
            "_view_module_version": "1.2.0",
            "_view_name": "StyleView",
            "bar_color": null,
            "description_width": ""
          }
        },
        "a9660aec60dc48269572ec7b700dff02": {
          "model_module": "@jupyter-widgets/base",
          "model_name": "LayoutModel",
          "model_module_version": "1.2.0",
          "state": {
            "_model_module": "@jupyter-widgets/base",
            "_model_module_version": "1.2.0",
            "_model_name": "LayoutModel",
            "_view_count": null,
            "_view_module": "@jupyter-widgets/base",
            "_view_module_version": "1.2.0",
            "_view_name": "LayoutView",
            "align_content": null,
            "align_items": null,
            "align_self": null,
            "border": null,
            "bottom": null,
            "display": null,
            "flex": null,
            "flex_flow": null,
            "grid_area": null,
            "grid_auto_columns": null,
            "grid_auto_flow": null,
            "grid_auto_rows": null,
            "grid_column": null,
            "grid_gap": null,
            "grid_row": null,
            "grid_template_areas": null,
            "grid_template_columns": null,
            "grid_template_rows": null,
            "height": null,
            "justify_content": null,
            "justify_items": null,
            "left": null,
            "margin": null,
            "max_height": null,
            "max_width": null,
            "min_height": null,
            "min_width": null,
            "object_fit": null,
            "object_position": null,
            "order": null,
            "overflow": null,
            "overflow_x": null,
            "overflow_y": null,
            "padding": null,
            "right": null,
            "top": null,
            "visibility": null,
            "width": null
          }
        },
        "922045f9f15f4803bf131ae2ba860361": {
          "model_module": "@jupyter-widgets/controls",
          "model_name": "DescriptionStyleModel",
          "model_module_version": "1.5.0",
          "state": {
            "_model_module": "@jupyter-widgets/controls",
            "_model_module_version": "1.5.0",
            "_model_name": "DescriptionStyleModel",
            "_view_count": null,
            "_view_module": "@jupyter-widgets/base",
            "_view_module_version": "1.2.0",
            "_view_name": "StyleView",
            "description_width": ""
          }
        }
      }
    }
  },
  "cells": [
    {
      "cell_type": "code",
      "execution_count": null,
      "metadata": {
        "id": "7oGjSgqD4Xoh"
      },
      "outputs": [],
      "source": [
        "! pip install -qU google-cloud-aiplatform langchain datasets pandas"
      ]
    },
    {
      "cell_type": "markdown",
      "source": [
        "Restart the Runtime for Vertex AI. The below code crashes the runtime so restart manually!"
      ],
      "metadata": {
        "id": "oSRbkh9w54lN"
      }
    },
    {
      "cell_type": "code",
      "source": [
        "import IPython\n",
        "app = IPython.Application.instance()\n",
        "app.kernel.do_shutdown(True)"
      ],
      "metadata": {
        "colab": {
          "base_uri": "https://localhost:8080/"
        },
        "id": "EZejhODj5n3r",
        "outputId": "1b64b5be-6843-4da7-f527-637289c48bce"
      },
      "execution_count": null,
      "outputs": [
        {
          "output_type": "execute_result",
          "data": {
            "text/plain": [
              "{'status': 'ok', 'restart': True}"
            ]
          },
          "metadata": {},
          "execution_count": 2
        }
      ]
    },
    {
      "cell_type": "code",
      "source": [
        "from google.colab import auth\n",
        "auth.authenticate_user()"
      ],
      "metadata": {
        "id": "hFhqij_B507W"
      },
      "execution_count": null,
      "outputs": []
    },
    {
      "cell_type": "code",
      "source": [
        "PROJECT_ID = \"ibm-keras\"\n",
        "REGION = \"us-central1\"\n",
        "import vertexai\n",
        "vertexai.init(project=PROJECT_ID, location=REGION)"
      ],
      "metadata": {
        "id": "vZ_5K0S85_X2"
      },
      "execution_count": null,
      "outputs": []
    },
    {
      "cell_type": "code",
      "source": [
        "from datasets import load_dataset\n",
        "from google.cloud import aiplatform\n",
        "from langchain.llms import VertexAI\n",
        "from langchain.chains import SequentialChain\n",
        "from langchain.prompts import ChatPromptTemplate\n",
        "from langchain.chains import LLMChain\n",
        "import warnings\n",
        "import pandas as pd"
      ],
      "metadata": {
        "id": "MtHvhOwEF_qY"
      },
      "execution_count": null,
      "outputs": []
    },
    {
      "cell_type": "code",
      "source": [
        "llm = VertexAI(\n",
        "    model_name=\"text-bison@001\",\n",
        "    max_output_tokens=256,\n",
        "    temperature=0.1,\n",
        "    top_p=0.8,\n",
        "    top_k=40,\n",
        "    verbose=True,\n",
        ")"
      ],
      "metadata": {
        "id": "1GGtZoFNGd0k"
      },
      "execution_count": null,
      "outputs": []
    },
    {
      "cell_type": "code",
      "source": [
        "warnings.filterwarnings('ignore')"
      ],
      "metadata": {
        "id": "KwulA35hGkB7"
      },
      "execution_count": null,
      "outputs": []
    },
    {
      "cell_type": "code",
      "source": [
        "# load the dataset from huggingface\n",
        "dataset = load_dataset(\"banking77\")\n",
        "\n",
        "# Sort the dataset by the length of the customer texts\n",
        "sorted_data = sorted(dataset['train'], key=lambda x: len(x['text']), reverse=True)\n",
        "\n",
        "longest_ten_texts = [entry[\"text\"] for entry in sorted_data[:3]]"
      ],
      "metadata": {
        "colab": {
          "base_uri": "https://localhost:8080/",
          "height": 66,
          "referenced_widgets": [
            "a513f88875c14ed6af9e2afdd52e5665",
            "c373de18dede449ab2b60ab1be265c55",
            "4c5801ba58f44f49bb9d5606c4d6557c",
            "7c7584201e8540649a90646f305dc397",
            "0a924a57437045b1ab7bdac3dfbecd41",
            "6fbdbd4c64ae473caf14e3646b70f5d5",
            "c3d69d9eb68047629452a2024130932e",
            "77dd9283ad814efbb3dae004e306b969",
            "3bb18eb71eb845e79a9dca69d9a2396a",
            "a9660aec60dc48269572ec7b700dff02",
            "922045f9f15f4803bf131ae2ba860361"
          ]
        },
        "id": "zD179u-yGuC2",
        "outputId": "5625feca-722c-4893-dc52-3ca7d69e005d"
      },
      "execution_count": null,
      "outputs": [
        {
          "output_type": "stream",
          "name": "stderr",
          "text": [
            "WARNING:datasets.builder:Found cached dataset banking77 (/root/.cache/huggingface/datasets/banking77/default/1.1.0/9898c11f6afa9521953d2ef205667b527bad14ef9cab445d470f16240c8c8ec4)\n"
          ]
        },
        {
          "output_type": "display_data",
          "data": {
            "text/plain": [
              "  0%|          | 0/2 [00:00<?, ?it/s]"
            ],
            "application/vnd.jupyter.widget-view+json": {
              "version_major": 2,
              "version_minor": 0,
              "model_id": "a513f88875c14ed6af9e2afdd52e5665"
            }
          },
          "metadata": {}
        }
      ]
    },
    {
      "cell_type": "code",
      "source": [
        "# SequentialChain\n",
        "english_translator_prompt = ChatPromptTemplate.from_template(\n",
        "    \"Translate the following enquiry to english:{Review}\")\n",
        "\n",
        "# chain 1: input= Review and output= English_Review\n",
        "english_translator_chain = LLMChain(llm=llm, prompt=english_translator_prompt, output_key=\"English_Review\")\n",
        "\n",
        "# summary chain\n",
        "summary_prompt = ChatPromptTemplate.from_template(\n",
        "    \"Can you summarize the following enquiry in no longer than 100 words?: {English_Review}\")\n",
        "\n",
        "# chain 2: input= English_Review and output= summary\n",
        "summary_chain = LLMChain(llm=llm, prompt=summary_prompt, output_key=\"summary\")\n",
        "\n",
        "# sentiment chain\n",
        "sentiment_prompt = ChatPromptTemplate.from_template(\"Identify the sentiment of the the following enquiry in single \"\n",
        "                                                    \"word, positive, negative or neutral: {summary}\")\n",
        "\n",
        "sentiment_chain = LLMChain(llm=llm, prompt=sentiment_prompt, output_key=\"sentiment\")\n",
        "\n",
        "# Intent chain\n",
        "intent_prompt = ChatPromptTemplate.from_template(\"Identify the intent of the the following enquiry in single sentence\"\n",
        "                                                 \"\\n\\n{summary}\"\n",
        "                                                 )\n",
        "intent_chain = LLMChain(llm=llm, prompt=intent_prompt, output_key=\"intent\")\n",
        "\n",
        "# Identity the original language the enquiry was written in\n",
        "language_prompt = ChatPromptTemplate.from_template(\"What language is the following enquiry:\\n\\n{Review}\")\n",
        "\n",
        "# input= Review and output= language\n",
        "language_chain = LLMChain(llm=llm, prompt=language_prompt, output_key=\"language\")\n",
        "\n",
        "# prompt template 4: follow-up message\n",
        "response_prompt = ChatPromptTemplate.from_template(\n",
        "    \"Write a follow up response in very professionally to the following \"\n",
        "    \"summary and sentiment in the specified language:\"\n",
        "    \"\\n\\nSummary: {summary}\\n\\nsentiment: {sentiment}\\n\\nLanguage: {language}\"\n",
        ")\n",
        "# chain 4: input= summary, language and output= followup_message\n",
        "response_chain = LLMChain(llm=llm, prompt=response_prompt, output_key=\"followup_message\")\n",
        "\n",
        "# overall_chain: input= Review\n",
        "# and output= English_Review,summary, follow up_message\n",
        "overall_chain = SequentialChain(\n",
        "    chains=[english_translator_chain, summary_chain, sentiment_chain, intent_chain, language_chain, response_chain],\n",
        "    input_variables=[\"Review\"],\n",
        "    output_variables=[\"English_Review\", \"summary\", \"sentiment\", \"intent\", \"language\", \"followup_message\"],\n",
        "    verbose=True\n",
        ")"
      ],
      "metadata": {
        "id": "tg9vn1FGHrOe"
      },
      "execution_count": null,
      "outputs": []
    },
    {
      "cell_type": "code",
      "source": [
        "for text in longest_ten_texts:\n",
        "    response = overall_chain(text)\n",
        "    print(response)"
      ],
      "metadata": {
        "id": "4QYKn9pvIH4V",
        "colab": {
          "base_uri": "https://localhost:8080/"
        },
        "outputId": "b026af07-d79c-4e3d-d274-9c64037c2987"
      },
      "execution_count": null,
      "outputs": [
        {
          "output_type": "stream",
          "name": "stderr",
          "text": [
            "WARNING:langchain.callbacks.manager:Error in on_chain_start callback: 'name'\n",
            "WARNING:langchain.callbacks.manager:Error in on_chain_start callback: 'name'\n"
          ]
        },
        {
          "output_type": "stream",
          "name": "stdout",
          "text": [
            "\n",
            "\u001b[1m> Finished chain.\u001b[0m\n",
            "{'Review': 'Hearing back from us regarding your important verification results may take 10 minutes to one hour time.  If verification results do fail, double-check to make sure all of your images are clear --  make sure your photos have no glare or blurring. Note: These photos need to be readable as well.  You also need to be 18 years of age or older.  You must be a resident of Switzerland or the European Economic Area to open a new account.', 'English_Review': 'It may take 10 minutes to one hour for us to respond to you regarding your important verification results. If the verification results fail, double-check to make sure all of your images are clear. Make sure your photos have no glare or blurring. Note: These photos must also be readable. You must also be 18 years of age or older. You must be a resident of Switzerland or the European Economic Area to open a new account.', 'summary': 'Please verify your identity by providing a clear photo of your face and a clear photo of your ID. If the verification fails, make sure your photos are clear and readable. You must be 18 years of age or older and a resident of Switzerland or the European Economic Area to open a new account.', 'sentiment': 'neutral', 'intent': 'The intent of the enquiry is to verify the identity of the user.', 'language': 'This is English. The words \"verification\", \"results\", \"glare\", \"blurring\", \"photos\", \"readable\", \"18 years of age\", \"older\", \"Switzerland\", \"European Economic Area\", \"account\" are all English words.', 'followup_message': 'Dear [Customer Name],\\n\\nThank you for your interest in opening an account with [Bank Name].\\n\\nIn order to verify your identity, we require a clear photo of your face and a clear photo of your ID. If the verification fails, please make sure that your photos are clear and readable. Avoid glare and blurring.\\n\\nYou must be 18 years of age or older and a resident of Switzerland or the European Economic Area to open a new account.\\n\\nOnce your verification is complete, we will be able to process your application.\\n\\nThank you for your patience.\\n\\nSincerely,\\n[Your Name]'}\n"
          ]
        },
        {
          "output_type": "stream",
          "name": "stderr",
          "text": [
            "WARNING:langchain.callbacks.manager:Error in on_chain_start callback: 'name'\n"
          ]
        },
        {
          "output_type": "stream",
          "name": "stdout",
          "text": [
            "\n",
            "\u001b[1m> Finished chain.\u001b[0m\n",
            "{'Review': 'Hearing about your verification results from us may take anywhere from 10 minutes to approximately one hour.  If this verification has in fact, failed, double-check to make sure that your images are clear.  Also make sure that your document photos have no blur or glare. They need to be readable.  You must also be 18 years of age or older and be a resident of Switzerland or the European Economic Area to open an account.', 'English_Review': 'It may take anywhere from 10 minutes to approximately one hour for us to inform you of the results of your verification. If this verification has in fact failed, double-check to make sure that your images are clear. Also make sure that your document photos have no blur or glare. They need to be readable. You must also be 18 years of age or older and be a resident of Switzerland or the European Economic Area to open an account.', 'summary': 'The verification process may take up to an hour. Make sure your images are clear and readable, and that your documents are free of glare and blur. You must be 18 years of age or older and a resident of Switzerland or the EEA to open an account.', 'sentiment': 'neutral', 'intent': 'The verification process may take up to an hour.', 'language': 'The language is English.\\n\\nThe words \"Hearing\", \"verification\", \"images\", \"document\", \"blur\", \"glare\", \"readable\", \"age\", \"resident\", \"Switzerland\", \"European Economic Area\", \"account\" are all English words.', 'followup_message': 'Dear [Name],\\n\\nThank you for your interest in opening an account with [Company Name].\\n\\nWe appreciate your patience as we verify your identity. This process may take up to an hour, but it is important to ensure that we have accurate and complete information about you.\\n\\nPlease make sure that your images are clear and readable, and that your documents are free of glare and blur. You must also be 18 years of age or older and a resident of Switzerland or the European Economic Area to open an account.\\n\\nOnce we have verified your identity, we will be able to process your application and open your account. We will contact you as soon as possible with an update.\\n\\nThank you again for your interest in [Company Name]. We look forward to working with you.\\n\\nSincerely,\\n[Your Name]'}\n",
            "\n",
            "\u001b[1m> Finished chain.\u001b[0m\n",
            "{'Review': \"Hi! I'm a university student studying abroad and I noticed that when I was trying to cross-reference my budget for this month that there were extra fees I was not expecting. Why is that? I've had this account for years and I haven't had any trouble so far, it might not even be on your all's end since I'm still new to international travel and finance, but I wanted to double check in case a mistake was made!\", 'English_Review': \"Hi! I'm a university student studying abroad and I noticed that when I was trying to cross-reference my budget for this month that there were extra fees I was not expecting. Why is that? I've had this account for years and I haven't had any trouble so far, it might not even be on your all's end since I'm still new to international travel and finance, but I wanted to double check in case a mistake was made!\\n\\nHi! I'm a university student studying abroad and I noticed that when I was trying to cross-reference my budget for this month that there were extra fees I was not expecting. Why is that? I've had this account for years and I haven't had any trouble so far, it might not even be on your all's end since I'm still new to international travel and finance, but I wanted to double check in case a mistake was made!\", 'summary': 'The customer is asking about extra fees they were charged on their account. They have had the account for years and have not had any trouble before. They think it might be due to international travel, but they want to make sure there was no mistake.', 'sentiment': 'negative', 'intent': 'The customer is inquiring about extra fees they were charged on their account.', 'language': 'English', 'followup_message': \"I understand that you're concerned about the extra fees that were charged to your account. I'd be happy to look into this for you and make sure there was no mistake.\\n\\nCan you please provide me with the following information so I can get started:\\n\\n* Your account number\\n* The date and amount of the charges\\n* Any other information you think might be relevant\\n\\nI'll get back to you as soon as I have more information.\"}\n"
          ]
        }
      ]
    }
  ]
}